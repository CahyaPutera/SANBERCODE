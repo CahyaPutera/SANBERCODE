{
 "cells": [
  {
   "cell_type": "markdown",
   "metadata": {},
   "source": [
    "## TUGAS HARI 11\n",
    "\n",
    "> *Topik :* ***Polusi Udara***\n",
    "\n",
    "> *Link Berita : https://www.kompas.com/sains/read/2020/06/16/123400723/psbb-transisi-jakarta-nomor-dua-penyumbang-polusi-udara-dunia-kok-bisa?page=all*"
   ]
  },
  {
   "cell_type": "code",
   "execution_count": 1,
   "metadata": {},
   "outputs": [],
   "source": [
    "# import library\n",
    "\n",
    "import pandas as pd\n",
    "import re\n",
    "import string \n",
    "\n",
    "from urllib.request import urlopen\n",
    "from bs4 import BeautifulSoup\n",
    "\n",
    "from nltk.tokenize import sent_tokenize, word_tokenize\n",
    "from nltk.corpus import stopwords\n",
    "from nltk.stem import PorterStemmer\n",
    "\n",
    "from Sastrawi.Stemmer.StemmerFactory import StemmerFactory"
   ]
  },
  {
   "cell_type": "code",
   "execution_count": 2,
   "metadata": {},
   "outputs": [],
   "source": [
    "# membuat target url\n",
    "\n",
    "url = \"https://www.kompas.com/sains/read/2020/06/16/123400723/psbb-transisi-jakarta-nomor-dua-penyumbang-polusi-udara-dunia-kok-bisa?page=all\"\n",
    "html = urlopen(url)"
   ]
  },
  {
   "cell_type": "code",
   "execution_count": 3,
   "metadata": {},
   "outputs": [
    {
     "name": "stdout",
     "output_type": "stream",
     "text": [
      "['', ' -  Polusi udara kembali menyelimuti langit  Jakarta, sejak masa Pembatasan Sosial Berskala Besar ( PSBB) memasuki masa transisi.', 'Pembatasan sosial tersebut selama ini menjadi upaya pemerintah untuk mengurangi potensi penyebaran  virus corona baru yang menyebabkan  Covid-19.', 'Namun, sejak pelonggaran dilakukan dan warga kembali beraktivitas, otomatis operasional kendaraan bermotor mulai meningkat.', 'Seperti dikutip dari pemberitaan Kompas.com, Senin (15/6/2020), kemacetan lalu linta tampak mewarnai sejumlah ruas jalan di ibukota.', 'Direktorat Lalu Lintas Polda Metro Jaya mencatat ada 410 titik rawan kemacetan di wilayah Jabodetabek. Guna mengurai kemacetan tersebut, sebanyak 1.728 personel dikerahkan.', '', 'Akibat kemacetan di sejumlah titik tersebut,  kualitas udara di DKI Jakarta mulai berdampak.', 'Berdasarkan data AirVisual IQAir.com, kualitas udara Jakarta pada pukul 18.39 WIB, mencapai angka 131 US AQI.', 'Dengan angka tersebut, Jakarta menjadi kota kedua di dunia sebagai penyumbang  polusi udara terbesar, di bawah Kota New Delhi di India yang mencapai angka 142 US AQI.', 'Tangkapan layar TikTok/Ianhugen Akun tiktok @ianhugen mengunggah video yang membandingkan wajah Jakarta saat diterapkan PSBB dengan hari pertama new normal (15/6/2020).', '', 'Sementara itu, angka polusi yang terjadi di Jakarta saat ini, sangat berbeda jauh, dibandingkan saat ibukota menerapkan PSBB pada April lalu.', ' Kualitas udara di Jakarta sempat menempati peringkat 38 dunia pada 22 April 2020 lalu, sebagai kota penyumbang polusi udara terbesar di dunia.', 'Gubernur DKI Jakarta Anies Baswedan memutuskan untuk kembali memperpanjang PSBB di Jakarta hingga akhir Juni mendatang.', 'Joshua Stevens/Copernicus Sentinel 5P/ESA Polusi nitrogen dioksida di atas China turun, hasil citra satelit Sentinel-5P milik ESA. Perbandingan polusi pada Januari 2020 dan Februari 2020.', ' Kualitas udara di Jakarta sempat membaik saat PSBB diberlakukan untuk menekan angka penyebaran virus corona yang menyebabkan Covid-19.', 'Bahkan, di China dan Italia, lockdown atau penguncian telah memberi dampak positif bagi lingkungan.', 'Seperti dilansir dari Science Alert, pada Maret lalu, instrumen Tropospheric Monitoring Instrument (TROPOMI) yang disematkan pada satelit Sentinel-5 menangkap gambar langit di atas China.', 'Citra satelit ini menunjukkan adanya penurunan nitrogen dioksida yang signifikan, dari Januari hingga Februari 2020.', '', 'Nitrogen dioksida sendiri merupakan polutan yang dihasilkan dari emisi kendaraan bermotor.', 'Badan Meteorologi, Klimatologi dan Geofisika ( BMKG) juga mencatatkan kualitas udara pada di Indonesia pada Maret lalu, lebih bersih dibandingkan Maret 2019.', 'Berjalannya  new normal atau fase kenormalan baru saat ini, disebut kembali meningkatkan polusi udara di Jakarta.', ' Citra satelit Copernicus Sentinel-5P milik ESA dari langit di Italia Utara, menunjukkan penurunan polusi udara secara drastis setelah Italia menyatakan lockdown karena wabah pandemi virus corona, Covid-19.', '', 'Kepala Bidang Analisis Variabilitas Iklim BMKG Indra Gustari menjelaskan membaik atau memburuknya kualitas udara suatu wilayah dilihat dari dua faktor.', '\"Pertama, perubahan di sumber polutannya dan kedua proses pengurangan polutan di udara,\" kata dia seperti dikutip dari pemberitaan Kompas.com, Senin (15/6/2020).', 'Untuk mengetahui dampak pasti dari faktor perubahan sumber polutannya, perlu dilakukan pengecekan jumlah peningkatan lalu lintas kendaraan di wilayah Jabodetabek dalam beberapa hari terakhir.', 'KOMPAS.COM/KRISTIANTO PURNOMO Langit biru terlihat dari kawasan Kota Tua Jakarta, Rabu (8/4/2020). Sepinya aktivitas warga Ibu Kota karena pembatasan sosial membuat langit Jakarta  cerah dengan tingkat polusi yang rendah.', 'Kendati demikian, kata Indra, melihat peningkatan kemacetan di jalanan Jabodetabek dalam beberapa hari terakhir sejak diberlakukan new normal dalam masa transisi, jelas menunjukkan adanya penambahan jumlah kendaraan.', '\"Selanjutnya itu akan meningkatkan konsentrasi polutan di udara atau menurunkan  kualitas udara di Jakarta dan sekitarnya,\" jelasnya.', 'Curah hujan yang masih tinggi di wilayah Jakarta dan sekitarnya pada awal tahun 2020, jelas Indra, memberi dampak pada penurunan konsentrasi polutan di udara.', '', '\"Sehingga kualitas udara pada periode tersebut relatif baik,\" kata dia.', 'Sebaliknya, sejak akhir Mei 2020 hingga saat ini, sebagian wilayah Jakarta sudah memasuki musim kemarau.', 'Kondisi ini, kata Indra, berimplikasi pada terakumulasinya polutan di udara pada Jakarta.', '\"Kondisi tersebut memperlihatkan kualitas udara di Jabodetabek menurun pada awal Juni dibandingkan beberapa beberapa minggu yang lalu adalah akibat dari faktor diatas,\" ungkapnya.', '\\xa0']\n"
     ]
    }
   ],
   "source": [
    "# scraping content dengan library beautifulsoup\n",
    "\n",
    "soup = BeautifulSoup(html, 'html.parser')\n",
    "content = soup.find(\"div\", {\"class\":\"read__content\"})\n",
    "\n",
    "# menyembunyikan link berita lain\n",
    "\n",
    "hidelabel = soup.findAll('strong')\n",
    "for i in hidelabel:\n",
    "    i.decompose()\n",
    "\n",
    "# scraping text berita\n",
    "\n",
    "text = []\n",
    "for i in content.findAll('p'):\n",
    "    text.append(i.get_text())\n",
    "    \n",
    "# hasil scraping\n",
    "\n",
    "print(text)"
   ]
  },
  {
   "cell_type": "code",
   "execution_count": 4,
   "metadata": {},
   "outputs": [],
   "source": [
    "# membuat function untuk proses case folding dengan bantuan regex\n",
    "\n",
    "def case_folding(data):\n",
    "    \n",
    "    # mengecilkan huruf / lowercasing\n",
    "    data = [i.lower() for i in data]\n",
    "    \n",
    "    # menghilangkan tanda baca dan angka\n",
    "    data = [' '.join(re.sub(\"(@[A-Za-z0-9]+)|([^0-9A-Za-z \\t])|(\\w+:\\/\\/\\S+)|\\d+\", \" \", i).split()) for i in data]\n",
    "    \n",
    "    # return hasil \n",
    "    return ' '.join(data)"
   ]
  },
  {
   "cell_type": "code",
   "execution_count": 5,
   "metadata": {},
   "outputs": [
    {
     "name": "stdout",
     "output_type": "stream",
     "text": [
      " polusi udara kembali menyelimuti langit jakarta sejak masa pembatasan sosial berskala besar psbb memasuki masa transisi pembatasan sosial tersebut selama ini menjadi upaya pemerintah untuk mengurangi potensi penyebaran virus corona baru yang menyebabkan covid namun sejak pelonggaran dilakukan dan warga kembali beraktivitas otomatis operasional kendaraan bermotor mulai meningkat seperti dikutip dari pemberitaan kompas com senin kemacetan lalu linta tampak mewarnai sejumlah ruas jalan di ibukota direktorat lalu lintas polda metro jaya mencatat ada titik rawan kemacetan di wilayah jabodetabek guna mengurai kemacetan tersebut sebanyak personel dikerahkan  akibat kemacetan di sejumlah titik tersebut kualitas udara di dki jakarta mulai berdampak berdasarkan data airvisual iqair com kualitas udara jakarta pada pukul wib mencapai angka us aqi dengan angka tersebut jakarta menjadi kota kedua di dunia sebagai penyumbang polusi udara terbesar di bawah kota new delhi di india yang mencapai angka us aqi tangkapan layar tiktok ianhugen akun tiktok mengunggah video yang membandingkan wajah jakarta saat diterapkan psbb dengan hari pertama new normal  sementara itu angka polusi yang terjadi di jakarta saat ini sangat berbeda jauh dibandingkan saat ibukota menerapkan psbb pada april lalu kualitas udara di jakarta sempat menempati peringkat dunia pada april lalu sebagai kota penyumbang polusi udara terbesar di dunia gubernur dki jakarta anies baswedan memutuskan untuk kembali memperpanjang psbb di jakarta hingga akhir juni mendatang joshua stevens copernicus sentinel p esa polusi nitrogen dioksida di atas china turun hasil citra satelit sentinel p milik esa perbandingan polusi pada januari dan februari kualitas udara di jakarta sempat membaik saat psbb diberlakukan untuk menekan angka penyebaran virus corona yang menyebabkan covid bahkan di china dan italia lockdown atau penguncian telah memberi dampak positif bagi lingkungan seperti dilansir dari science alert pada maret lalu instrumen tropospheric monitoring instrument tropomi yang disematkan pada satelit sentinel menangkap gambar langit di atas china citra satelit ini menunjukkan adanya penurunan nitrogen dioksida yang signifikan dari januari hingga februari  nitrogen dioksida sendiri merupakan polutan yang dihasilkan dari emisi kendaraan bermotor badan meteorologi klimatologi dan geofisika bmkg juga mencatatkan kualitas udara pada di indonesia pada maret lalu lebih bersih dibandingkan maret berjalannya new normal atau fase kenormalan baru saat ini disebut kembali meningkatkan polusi udara di jakarta citra satelit copernicus sentinel p milik esa dari langit di italia utara menunjukkan penurunan polusi udara secara drastis setelah italia menyatakan lockdown karena wabah pandemi virus corona covid  kepala bidang analisis variabilitas iklim bmkg indra gustari menjelaskan membaik atau memburuknya kualitas udara suatu wilayah dilihat dari dua faktor pertama perubahan di sumber polutannya dan kedua proses pengurangan polutan di udara kata dia seperti dikutip dari pemberitaan kompas com senin untuk mengetahui dampak pasti dari faktor perubahan sumber polutannya perlu dilakukan pengecekan jumlah peningkatan lalu lintas kendaraan di wilayah jabodetabek dalam beberapa hari terakhir kompas com kristianto purnomo langit biru terlihat dari kawasan kota tua jakarta rabu sepinya aktivitas warga ibu kota karena pembatasan sosial membuat langit jakarta cerah dengan tingkat polusi yang rendah kendati demikian kata indra melihat peningkatan kemacetan di jalanan jabodetabek dalam beberapa hari terakhir sejak diberlakukan new normal dalam masa transisi jelas menunjukkan adanya penambahan jumlah kendaraan selanjutnya itu akan meningkatkan konsentrasi polutan di udara atau menurunkan kualitas udara di jakarta dan sekitarnya jelasnya curah hujan yang masih tinggi di wilayah jakarta dan sekitarnya pada awal tahun jelas indra memberi dampak pada penurunan konsentrasi polutan di udara  sehingga kualitas udara pada periode tersebut relatif baik kata dia sebaliknya sejak akhir mei hingga saat ini sebagian wilayah jakarta sudah memasuki musim kemarau kondisi ini kata indra berimplikasi pada terakumulasinya polutan di udara pada jakarta kondisi tersebut memperlihatkan kualitas udara di jabodetabek menurun pada awal juni dibandingkan beberapa beberapa minggu yang lalu adalah akibat dari faktor diatas ungkapnya \n"
     ]
    }
   ],
   "source": [
    "# menampilkan text hasil case folding\n",
    "\n",
    "text_clean = case_folding(text)\n",
    "print(text_clean)"
   ]
  },
  {
   "cell_type": "code",
   "execution_count": 6,
   "metadata": {},
   "outputs": [],
   "source": [
    "# membuat function untuk filtering stopword menggunakan library nltk\n",
    "\n",
    "def stopword_filter(data, stopword):\n",
    "    \n",
    "    # tokenizing dengan nltk\n",
    "    word_tokens = word_tokenize(data) \n",
    "    \n",
    "    # return hasil filter   \n",
    "    data = ' '.join([i for i in word_tokens if not i in stopword])\n",
    "    \n",
    "    return data"
   ]
  },
  {
   "cell_type": "code",
   "execution_count": 7,
   "metadata": {},
   "outputs": [
    {
     "name": "stdout",
     "output_type": "stream",
     "text": [
      "polusi udara menyelimuti langit jakarta pembatasan sosial berskala psbb memasuki transisi pembatasan sosial upaya pemerintah mengurangi potensi penyebaran virus corona menyebabkan covid pelonggaran warga beraktivitas otomatis operasional kendaraan bermotor meningkat dikutip pemberitaan kompas com senin kemacetan linta mewarnai ruas jalan ibukota direktorat lintas polda metro jaya mencatat titik rawan kemacetan wilayah jabodetabek mengurai kemacetan personel dikerahkan akibat kemacetan titik kualitas udara dki jakarta berdampak berdasarkan data airvisual iqair com kualitas udara jakarta wib mencapai angka us aqi angka jakarta kota dunia penyumbang polusi udara terbesar kota new delhi india mencapai angka us aqi tangkapan layar tiktok ianhugen akun tiktok mengunggah video membandingkan wajah jakarta diterapkan psbb new normal angka polusi jakarta berbeda dibandingkan ibukota menerapkan psbb april kualitas udara jakarta menempati peringkat dunia april kota penyumbang polusi udara terbesar dunia gubernur dki jakarta anies baswedan memutuskan memperpanjang psbb jakarta juni joshua stevens copernicus sentinel p esa polusi nitrogen dioksida china turun hasil citra satelit sentinel p milik esa perbandingan polusi januari februari kualitas udara jakarta membaik psbb diberlakukan menekan angka penyebaran virus corona menyebabkan covid china italia lockdown penguncian dampak positif lingkungan dilansir science alert maret instrumen tropospheric monitoring instrument tropomi disematkan satelit sentinel menangkap gambar langit china citra satelit penurunan nitrogen dioksida signifikan januari februari nitrogen dioksida polutan dihasilkan emisi kendaraan bermotor badan meteorologi klimatologi geofisika bmkg mencatatkan kualitas udara indonesia maret bersih dibandingkan maret berjalannya new normal fase kenormalan meningkatkan polusi udara jakarta citra satelit copernicus sentinel p milik esa langit italia utara penurunan polusi udara drastis italia lockdown wabah pandemi virus corona covid kepala bidang analisis variabilitas iklim bmkg indra gustari membaik memburuknya kualitas udara wilayah faktor perubahan sumber polutannya proses pengurangan polutan udara dikutip pemberitaan kompas com senin dampak faktor perubahan sumber polutannya pengecekan peningkatan lintas kendaraan wilayah jabodetabek kompas com kristianto purnomo langit biru kawasan kota tua jakarta rabu sepinya aktivitas warga kota pembatasan sosial langit jakarta cerah tingkat polusi rendah kendati indra peningkatan kemacetan jalanan jabodetabek diberlakukan new normal transisi penambahan kendaraan meningkatkan konsentrasi polutan udara menurunkan kualitas udara jakarta curah hujan wilayah jakarta indra dampak penurunan konsentrasi polutan udara kualitas udara periode relatif mei wilayah jakarta memasuki musim kemarau kondisi indra berimplikasi terakumulasinya polutan udara jakarta kondisi kualitas udara jabodetabek menurun juni dibandingkan minggu akibat faktor diatas\n"
     ]
    }
   ],
   "source": [
    "# set stopword bahasa Indonesia dengan nltk\n",
    "\n",
    "stop_words = set(stopwords.words('indonesian'))\n",
    "\n",
    "# menampilkan hasil text yang telah terfilter \n",
    "\n",
    "text_filtered = stopword_filter(text_clean, stop_words)\n",
    "print(text_filtered)"
   ]
  },
  {
   "cell_type": "code",
   "execution_count": 8,
   "metadata": {},
   "outputs": [],
   "source": [
    "# membuat function untuk stemming dengan library sastrawi\n",
    "\n",
    "def stemming(data):\n",
    "    \n",
    "    # setting stemmer\n",
    "    factory = StemmerFactory()\n",
    "    stemmer = factory.create_stemmer()\n",
    "    \n",
    "    # stemming process\n",
    "    sentence = data\n",
    "    output   = stemmer.stem(sentence)\n",
    "    \n",
    "    # return hasil stemming\n",
    "    return output"
   ]
  },
  {
   "cell_type": "code",
   "execution_count": 9,
   "metadata": {},
   "outputs": [
    {
     "name": "stdout",
     "output_type": "stream",
     "text": [
      "polusi udara limut langit jakarta batas sosial skala psbb pasuk transisi batas sosial upaya perintah kurang potensi sebar virus corona sebab covid longgar warga aktivitas otomatis operasional kendara motor tingkat kutip berita kompas com senin macet linta warna ruas jalan ibukota direktorat lintas polda metro jaya catat titik rawan macet wilayah jabodetabek urai macet personel kerah akibat macet titik kualitas udara dki jakarta dampak dasar data airvisual iqair com kualitas udara jakarta wib capai angka us aqi angka jakarta kota dunia sumbang polusi udara besar kota new delhi india capai angka us aqi tangkap layar tiktok ianhugen akun tiktok unggah video banding wajah jakarta terap psbb new normal angka polusi jakarta beda banding ibukota terap psbb april kualitas udara jakarta tempat peringkat dunia april kota sumbang polusi udara besar dunia gubernur dki jakarta anies baswedan putus panjang psbb jakarta juni joshua stevens copernicus sentinel p esa polusi nitrogen dioksida china turun hasil citra satelit sentinel p milik esa banding polusi januari februari kualitas udara jakarta baik psbb laku tekan angka sebar virus corona sebab covid china italia lockdown kunci dampak positif lingkung lansir science alert maret instrumen tropospheric monitoring instrument tropomi semat satelit sentinel tangkap gambar langit china citra satelit turun nitrogen dioksida signifikan januari februari nitrogen dioksida polutan hasil emisi kendara motor badan meteorologi klimatologi geofisika bmkg catat kualitas udara indonesia maret bersih banding maret jalan new normal fase normal tingkat polusi udara jakarta citra satelit copernicus sentinel p milik esa langit italia utara turun polusi udara drastis italia lockdown wabah pandemi virus corona covid kepala bidang analisis variabilitas iklim bmkg indra gustari baik buruk kualitas udara wilayah faktor ubah sumber polutan proses kurang polutan udara kutip berita kompas com senin dampak faktor ubah sumber polutan kece tingkat lintas kendara wilayah jabodetabek kompas com kristianto purnomo langit biru kawasan kota tua jakarta rabu sepi aktivitas warga kota batas sosial langit jakarta cerah tingkat polusi rendah kendati indra tingkat macet jalan jabodetabek laku new normal transisi tambah kendara tingkat konsentrasi polutan udara turun kualitas udara jakarta curah hujan wilayah jakarta indra dampak turun konsentrasi polutan udara kualitas udara periode relatif mei wilayah jakarta pasuk musim kemarau kondisi indra implikasi akumulasi polutan udara jakarta kondisi kualitas udara jabodetabek turun juni banding minggu akibat faktor atas\n"
     ]
    }
   ],
   "source": [
    "# menampilkan hasil text yang telah di stemming \n",
    "\n",
    "text_stem = stemming(text_filtered)\n",
    "print(text_stem)"
   ]
  },
  {
   "cell_type": "code",
   "execution_count": 24,
   "metadata": {},
   "outputs": [
    {
     "data": {
      "text/html": [
       "<div>\n",
       "<style scoped>\n",
       "    .dataframe tbody tr th:only-of-type {\n",
       "        vertical-align: middle;\n",
       "    }\n",
       "\n",
       "    .dataframe tbody tr th {\n",
       "        vertical-align: top;\n",
       "    }\n",
       "\n",
       "    .dataframe thead th {\n",
       "        text-align: right;\n",
       "    }\n",
       "</style>\n",
       "<table border=\"1\" class=\"dataframe\">\n",
       "  <thead>\n",
       "    <tr style=\"text-align: right;\">\n",
       "      <th></th>\n",
       "      <th>Topik</th>\n",
       "      <th>Link</th>\n",
       "      <th>Berita</th>\n",
       "    </tr>\n",
       "  </thead>\n",
       "  <tbody>\n",
       "    <tr>\n",
       "      <th>0</th>\n",
       "      <td>Polusi Udara</td>\n",
       "      <td>https://www.kompas.com/sains/read/2020/06/16/1...</td>\n",
       "      <td>polusi udara limut langit jakarta batas sosial...</td>\n",
       "    </tr>\n",
       "  </tbody>\n",
       "</table>\n",
       "</div>"
      ],
      "text/plain": [
       "          Topik                                               Link  \\\n",
       "0  Polusi Udara  https://www.kompas.com/sains/read/2020/06/16/1...   \n",
       "\n",
       "                                              Berita  \n",
       "0  polusi udara limut langit jakarta batas sosial...  "
      ]
     },
     "execution_count": 24,
     "metadata": {},
     "output_type": "execute_result"
    }
   ],
   "source": [
    "# membuat ke dalam dataframe\n",
    "\n",
    "df = pd.DataFrame()\n",
    "df['Topik']  = ['Polusi Udara']\n",
    "df['Link']   = [url]\n",
    "df['Berita'] = [text_stem]\n",
    "\n",
    "# tampilkan dataframe\n",
    "\n",
    "df"
   ]
  },
  {
   "cell_type": "code",
   "execution_count": 27,
   "metadata": {},
   "outputs": [],
   "source": [
    "# eksport ke csv\n",
    "\n",
    "df.to_csv('cahyaputera_tugas11.csv', index=False)"
   ]
  }
 ],
 "metadata": {
  "kernelspec": {
   "display_name": "Python 3",
   "language": "python",
   "name": "python3"
  },
  "language_info": {
   "codemirror_mode": {
    "name": "ipython",
    "version": 3
   },
   "file_extension": ".py",
   "mimetype": "text/x-python",
   "name": "python",
   "nbconvert_exporter": "python",
   "pygments_lexer": "ipython3",
   "version": "3.8.3"
  }
 },
 "nbformat": 4,
 "nbformat_minor": 4
}
